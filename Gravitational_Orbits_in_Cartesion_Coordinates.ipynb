{
 "cells": [
  {
   "cell_type": "markdown",
   "metadata": {},
   "source": [
    "# Gravitational Orbits\n",
    "Programmer: Matthew Kusz \n",
    "\n",
    "Last Revision: 04/16/2019\n",
    "\n",
    "We will be setting up a Lagrangian for the motion of 2 orbital bodies and solving Langrange's equations.\n",
    "\n",
    "Lagrange's equations are:\n",
    "\n",
    "$\\begin{align}\n",
    " \\frac{d}{dt}\\frac{\\partial\\mathcal{L}}{\\partial \\dot q} = \\frac{\\partial\\mathcal L}{\\partial q}\n",
    "\\end{align}$\n",
    "\n",
    "Our Lagrangian is $\\mathcal{L}=T-U$ where\n",
    "\n",
    "$\\begin{align}\n",
    " T &= \\frac{1}{2} (\\dot x_1^2 + \\dot y_1^2) + \\frac{1}{2} (\\dot x_2^2 + \\dot y_2^2) \\\\\n",
    " U &= \\frac{G m_1 m_2}{r}\n",
    "\\end{align}$\n",
    "\n",
    "Now we need to solve Lagrange's equations for $x_1, y_1, x_2,$ and $y_2$.\n",
    "\n",
    "$\\begin{align}\n",
    " \\ddot x_1 &= \\frac{-G m_1 m_2}{r_{12}^2} \\frac{x_1-x_2}{r_{12} m_1} \\\\\n",
    " \\ddot y_1 &= \\frac{-G m_1 m_2}{r_{12}^2} \\frac{y_1-y_2}{r_{12} m_1} \\\\\n",
    " \\ddot x_2 &= \\frac{-G m_1 m_2}{r_{21}^2} \\frac{x_2-x_1}{r_{21} m_2} \\\\\n",
    " \\ddot y_2 &= \\frac{-G m_1 m_2}{r_{21}^2} \\frac{y_2-y_1}{r_{21} m_2}\n",
    "\\end{align}$\n",
    "\n",
    "We have $r_{12}=\\sqrt{(x_1-x_2)^2+(y_1-y_2)^2}=r_{21}$. We are leaving $m_1$ and $m_2$ in th denominator\n",
    "to match the code.\n",
    "\n",
    "We can now use these in our solve_ivp to find $[x_1,\\dot x_1, y_1, \\dot y_1, x_2, \\dot x_2, y_2, \\dot y_2]$ \n",
    "and plot the motion."
   ]
  },
  {
   "cell_type": "code",
   "execution_count": 75,
   "metadata": {},
   "outputs": [],
   "source": [
    "import numpy as np\n",
    "import matplotlib.pyplot as plt\n",
    "from scipy.integrate import solve_ivp"
   ]
  },
  {
   "cell_type": "code",
   "execution_count": 76,
   "metadata": {},
   "outputs": [],
   "source": [
    "# Change the common font size\n",
    "font_size = 14\n",
    "plt.rcParams.update({'font.size': font_size})"
   ]
  },
  {
   "cell_type": "code",
   "execution_count": 77,
   "metadata": {},
   "outputs": [],
   "source": [
    "class Orbit():\n",
    "    \"\"\"\n",
    "    Potentials and associated differential equations for a gravitationally\n",
    "    bound system. We will use the solve_ivp method for integration\n",
    "    of ordinary differential equations. \n",
    "    \n",
    "    Parameters\n",
    "    ----------\n",
    "    m1 : float\n",
    "        mass of the first orbital body\n",
    "    m2 : float\n",
    "        mass of the second prbital body\n",
    "    G: gravitational constant\n",
    "\n",
    "    Methods\n",
    "    -------\n",
    "    dy_dt(t, y)\n",
    "        Returns the right side of the differential equation in vector y, \n",
    "        given time t and the corresponding value of y.\n",
    "        \n",
    "    \"\"\"\n",
    "    def __init__(self, m1, m2, G):\n",
    "        self.m1 = m1\n",
    "        self.m2 = m2\n",
    "        self.G = G\n",
    "        \n",
    "    def dy_dt(self, t, y):\n",
    "        \"\"\"\n",
    "        This function returns the right-hand side of the diffeq: \n",
    "        [dx1/dt d^2x1/dt^2 dy1/dt d^2y1/dt^2 dx2/dt d^2x2/dt^2 dy2/dt d^2y2/dt^2]\n",
    "        \n",
    "        Parameters\n",
    "        ----------\n",
    "        t : float\n",
    "            time \n",
    "        y : float\n",
    "            8-component vector with y[0] = x1, y[1] = x1_dot, y[2] = y1, y[3] = y1_dot, \n",
    "            y[4] = x2, y[5] = x2_dot, y[6] = y2, y[7] = y2_dot\n",
    "            \n",
    "        \"\"\"\n",
    "        r = np.sqrt((y[0]-y[4])**2 + (y[2]-y[6])**2)\n",
    "        F = -self.G*self.m1*self.m2/r**2\n",
    "        \n",
    "        return [y[1], F*(y[0]-y[4])/(self.m1*r), y[3], F*(y[2]-y[6])/(self.m1*r), \n",
    "                y[5], F*(y[4]-y[0])/(self.m2*r), y[7], F*(y[6]-y[2])/(self.m2*r)]\n",
    "        \n",
    "    def solve_ode(self, x1_0, x1_dot_0, y1_0, y1_dot_0, x2_0, x2_dot_0, y2_0, y2_dot_0,\n",
    "                  t, abserr = 1.0e-10, relerr=1.0e-10):\n",
    "        \"\"\"\n",
    "        Solve the ODE given initial conditions.\n",
    "        Specify smaller abserr and relerr to get more precision.\n",
    "        \"\"\"\n",
    "        \n",
    "        y = [x1_0, x1_dot_0, y1_0, y1_dot_0, x2_0, x2_dot_0, y2_0, y2_dot_0]\n",
    "        \n",
    "        solution = solve_ivp(self.dy_dt, (t[0], t[-1]), y, t_eval=t, rtol=relerr, atol=abserr)\n",
    "            # solve_ivp( function for rhs with (t, y) argument (cf. (y,t) for odeint), \n",
    "            #            tspan=(starting t value, ending t value),\n",
    "            #            initial value of y(t), array of points we want to know y(t),\n",
    "            #            method='RK45' is the default method,\n",
    "            #            rtol=1.e-3, atol=1.e-6 are default tolerances\n",
    "            #          )\n",
    "            \n",
    "        x1, x1_dot, y1, y1_dot, x2, x2_dot, y2, y2_dot = solution.y\n",
    "        \n",
    "        return x1, x1_dot, y1, y1_dot, x2, x2_dot, y2, y2_dot        \n",
    " \n",
    "    def solve_ode_Leapfrog(self, x1_0, x1_dot_0, y1_0, y1_dot_0, x2_0, x2_dot_0, y2_0, y2_dot_0, t_pts):\n",
    "        \"\"\"\n",
    "        Solve the ODE given initial conditions with the Leapfrog method.\n",
    "        \"\"\"\n",
    "        delta_t = t_pts[1] - t_pts[0]\n",
    "        \n",
    "        # initialize the arrays for r, rdot, r_dot_half, phi with zeros\n",
    "        num_t_pts = len(t_pts)\n",
    "        x1 = np.zeros(num_t_pts)\n",
    "        x1_dot = np.zeros(num_t_pts)\n",
    "        x1_dot_half = np.zeros(num_t_pts)\n",
    "\n",
    "        y1 = np.zeros(num_t_pts)\n",
    "        y1_dot = np.zeros(num_t_pts)\n",
    "        y1_dot_half = np.zeros(num_t_pts)\n",
    "        \n",
    "        x2 = np.zeros(num_t_pts)\n",
    "        x2_dot = np.zeros(num_t_pts)\n",
    "        x2_dot_half = np.zeros(num_t_pts)\n",
    "        \n",
    "        y2 = np.zeros(num_t_pts)\n",
    "        y2_dot = np.zeros(num_t_pts)\n",
    "        y2_dot_half = np.zeros(num_t_pts)\n",
    "        \n",
    "        # initial conditions\n",
    "        x1[0] = x1_0\n",
    "        x1_dot[0] = x1_dot_0\n",
    "        \n",
    "        y1[0] = y1_0\n",
    "        y1_dot[0] = y1_dot_0\n",
    "        \n",
    "        x2[0] = x2_0\n",
    "        x2_dot[0] = x2_dot_0\n",
    "        \n",
    "        y2[0] = y2_0\n",
    "        y2_dot[0] = y2_dot_0\n",
    "        \"\"\"\n",
    "        # step through the differential equation\n",
    "        for i in np.arange(num_t_pts - 1):\n",
    "            t = t_pts[i]\n",
    "            y = [x1[i], x1_dot[i], y1[i], y1_dot[i], x2[i], x2_dot[i], y2[i], y2_dot[i]]\n",
    "            x1_dot_half[i] = x1_dot[i] + self.dy_dt(t, y)[1] * delta_t/2.\n",
    "            x1[i+1] = x1[i] + x1_dot_half[i] * delta_t\n",
    "            \n",
    "            y1_dot_half[i] = y1_dot[i] + self.dy_dt(t, y)[3] * delta_t/2.\n",
    "            y1[i+1] = x1[i] + y1_dot_half[i] * delta_t\n",
    "            \n",
    "            x2_dot_half[i] = x2_dot[i] + self.dy_dt(t, y)[5] * delta_t/2.\n",
    "            x2[i+1] = x1[i] + x2_dot_half[i] * delta_t\n",
    "            \n",
    "            y2_dot_half[i] = y2_dot[i] + self.dy_dt(t, y)[7] * delta_t/2.\n",
    "            y2[i+1] = x1[i] + y2_dot_half[i] * delta_t\n",
    "            \n",
    "            y = [x1[i+1], x1_dot[i], y1[i+1], y1_dot[i], x2[i+1], x2_dot[i], y2[i+1], y2_dot[i]]\n",
    "            x1_dot[i+1] = x1_dot_half[i] + self.dy_dt(t, y)[1] * delta_t/2.\n",
    "            \n",
    "            y1_dot[i+1] = y1_dot_half[i] + self.dy_dt(t, y)[3] * delta_t/2.\n",
    "            \n",
    "            x2_dot[i+1] = x2_dot_half[i] + self.dy_dt(t, y)[5] * delta_t/2.\n",
    "            \n",
    "            y2_dot[i+1] = y2_dot_half[i] + self.dy_dt(t, y)[7] * delta_t/2.\n",
    "        \"\"\"\n",
    "        \n",
    "        # step through the differential equation\n",
    "        for i in np.arange(num_t_pts - 1):\n",
    "            t = t_pts[i]\n",
    "            y = [x1[i], x1_dot[i], y1[i], y1_dot[i], x2[i], x2_dot[i], y2[i], y2_dot[i]]\n",
    "            x1_dot_half[i] = x1_dot[i] + self.dy_dt(t, y)[1] * delta_t/2.\n",
    "            x1[i+1] = x1[i] + x1_dot_half[i] * delta_t\n",
    "            \n",
    "            y = [x1[i+1], x1_dot[i], y1[i], y1_dot[i], x2[i], x2_dot[i], y2[i], y2_dot[i]]\n",
    "            x1_dot[i+1] = x1_dot_half[i] + self.dy_dt(t, y)[1] * delta_t/2.\n",
    "            \n",
    "            y = [x1[i], x1_dot[i], y1[i], y1_dot[i], x2[i], x2_dot[i], y2[i], y2_dot[i]]\n",
    "            y1_dot_half[i] = y1_dot[i] + self.dy_dt(t, y)[3] * delta_t/2.\n",
    "            y1[i+1] = y1[i] + y1_dot_half[i] * delta_t\n",
    "            \n",
    "            y = [x1[i], x1_dot[i], y1[i+1], y1_dot[i], x2[i], x2_dot[i], y2[i], y2_dot[i]]\n",
    "            y1_dot[i+1] = y1_dot_half[i] + self.dy_dt(t, y)[3] * delta_t/2.\n",
    "            \n",
    "            y = [x1[i], x1_dot[i], y1[i], y1_dot[i], x2[i], x2_dot[i], y2[i], y2_dot[i]]\n",
    "            x2_dot_half[i] = x2_dot[i] + self.dy_dt(t, y)[5] * delta_t/2.\n",
    "            x2[i+1] = x2[i] + x2_dot_half[i] * delta_t\n",
    "            \n",
    "            y = [x1[i], x1_dot[i], y1[i], y1_dot[i], x2[i+1], x2_dot[i], y2[i], y2_dot[i]]\n",
    "            x2_dot[i+1] = x2_dot_half[i] + self.dy_dt(t, y)[5] * delta_t/2.\n",
    "            \n",
    "            y = [x1[i], x1_dot[i], y1[i], y1_dot[i], x2[i], x2_dot[i], y2[i], y2_dot[i]]\n",
    "            y2_dot_half[i] = y2_dot[i] + self.dy_dt(t, y)[7] * delta_t/2.\n",
    "            y2[i+1] = y2[i] + y2_dot_half[i] * delta_t\n",
    "            \n",
    "            y = [x1[i], x1_dot[i], y1[i], y1_dot[i], x2[i], x2_dot[i], y2[i+1], y2_dot[i]]\n",
    "            y2_dot[i+1] = y2_dot_half[i] + self.dy_dt(t, y)[7] * delta_t/2.\n",
    "                        \n",
    "        return x1, x1_dot, y1, y1_dot, x2, x2_dot, y2, y2_dot  "
   ]
  },
  {
   "cell_type": "code",
   "execution_count": 78,
   "metadata": {},
   "outputs": [],
   "source": [
    "def start_stop_indices(t_pts, plot_start, plot_stop):\n",
    "    start_index = (np.fabs(t_pts-plot_start)).argmin()  # index in t_pts array \n",
    "    stop_index = (np.fabs(t_pts-plot_stop)).argmin()  # index in t_pts array \n",
    "    return start_index, stop_index"
   ]
  },
  {
   "cell_type": "markdown",
   "metadata": {},
   "source": [
    "# Gravitational System"
   ]
  },
  {
   "cell_type": "code",
   "execution_count": 79,
   "metadata": {},
   "outputs": [],
   "source": [
    "# Set up our system\n",
    "G = 1.\n",
    "m1 = 10.\n",
    "m2 = 10.\n",
    "\n",
    "# Initial conditions (make sure the velocity of the COM frame is zero)\n",
    "x1_0=-3.5\n",
    "x1_dot_0 = -0.5\n",
    "y1_0= 0.\n",
    "y1_dot_0 = 1.\n",
    "x2_0= 1.5\n",
    "x2_dot_0 = -(m1/m2)*x1_dot_0\n",
    "y2_0= -1.5\n",
    "y2_dot_0 = -(m1/m2)*y1_dot_0\n",
    "\n",
    "# Instantiate the orbit\n",
    "o1 = Orbit(m1=m1, m2=m2, G=G)"
   ]
  },
  {
   "cell_type": "code",
   "execution_count": 80,
   "metadata": {},
   "outputs": [],
   "source": [
    "# Plotting time \n",
    "t_start = 0.\n",
    "t_end = 100.\n",
    "delta_t = 0.01\n",
    "\n",
    "t_pts = np.arange(t_start, t_end+delta_t, delta_t)  \n",
    "\n",
    "# Find the motions\n",
    "x1, x1_dot, y1, y1_dot, x2, x2_dot, y2, y2_dot = o1.solve_ode(x1_0, x1_dot_0, y1_0, y1_dot_0, \n",
    "                              x2_0, x2_dot_0, y2_0, y2_dot_0, t_pts)"
   ]
  },
  {
   "cell_type": "code",
   "execution_count": 81,
   "metadata": {},
   "outputs": [
    {
     "data": {
      "image/png": "[encoded data removed]",
      "text/plain": [
       "<Figure size 576x576 with 1 Axes>"
      ]
     },
     "metadata": {
      "needs_background": "light"
     },
     "output_type": "display_data"
    }
   ],
   "source": [
    "# Plot the points we found\n",
    "fig_1 = plt.figure(figsize=(8,8))\n",
    "\n",
    "overall_title = 'Orbit: ' + \\\n",
    "                rf' $m1 = {o1.m1},$' + \\\n",
    "                rf' $m2 = {o1.m2}$'\n",
    "fig_1.suptitle(overall_title, va='baseline')\n",
    "\n",
    "ax_1 = fig_1.add_subplot(1,1,1)\n",
    "ax_1.plot(x1, y1, color='red', label='m1')\n",
    "ax_1.plot(x2, y2, color='blue', label='m2')\n",
    "ax_1.set_xlabel(r'$x$')\n",
    "ax_1.set_ylabel(r'$y$')\n",
    "ax_1.set_aspect('equal')\n",
    "ax_1.set_title('Cartesian plot')\n",
    "ax_1.legend()\n",
    "\n",
    "\n",
    "fig_1.tight_layout()\n",
    "fig_1.savefig('Orbits.png', dpi = 200, bbox_inches='tight')  # always bbox_inches='tight"
   ]
  },
  {
   "cell_type": "markdown",
   "metadata": {},
   "source": [
    "# Large m1\n",
    "\n",
    "Let's see what happens when m1>>m2."
   ]
  },
  {
   "cell_type": "code",
   "execution_count": 90,
   "metadata": {},
   "outputs": [],
   "source": [
    "# Set up our system\n",
    "G = 1.\n",
    "m1 = 1000.\n",
    "m2 = 10.\n",
    "\n",
    "# Initial conditions (make sure the velocity of the COM frame is zero)\n",
    "x1_0=-1.5\n",
    "x1_dot_0 = 0.002\n",
    "y1_0= 0.\n",
    "y1_dot_0 = 0.1\n",
    "x2_0= 1.5\n",
    "x2_dot_0 = -(m1/m2)*x1_dot_0\n",
    "y2_0= -2.5\n",
    "y2_dot_0 = -(m1/m2)*y1_dot_0\n",
    "\n",
    "# Instantiate the orbit\n",
    "o1 = Orbit(m1=m1, m2=m2, G=G)"
   ]
  },
  {
   "cell_type": "code",
   "execution_count": 91,
   "metadata": {},
   "outputs": [
    {
     "data": {
      "image/png": "[encoded data removed]",
      "text/plain": [
       "<Figure size 576x576 with 1 Axes>"
      ]
     },
     "metadata": {
      "needs_background": "light"
     },
     "output_type": "display_data"
    }
   ],
   "source": [
    "# Find the motions\n",
    "x1, x1_dot, y1, y1_dot, x2, x2_dot, y2, y2_dot = o1.solve_ode(x1_0, x1_dot_0, y1_0, y1_dot_0, \n",
    "                              x2_0, x2_dot_0, y2_0, y2_dot_0, t_pts)\n",
    "\n",
    "# Plot the points we found\n",
    "fig_2 = plt.figure(figsize=(8,8))\n",
    "\n",
    "overall_title = 'Orbit: ' + \\\n",
    "                rf' $m1 = {o1.m1},$' + \\\n",
    "                rf' $m2 = {o1.m2}$'\n",
    "fig_2.suptitle(overall_title, va='baseline')\n",
    "\n",
    "ax_2 = fig_2.add_subplot(1,1,1)\n",
    "ax_2.plot(x1, y1, color='red', label='m1')\n",
    "ax_2.plot(x2, y2, color='blue', label='m2')\n",
    "ax_2.set_xlabel(r'$x$')\n",
    "ax_2.set_ylabel(r'$y$')\n",
    "ax_2.set_aspect('equal')\n",
    "ax_2.set_title('Cartesian plot')\n",
    "ax_2.legend()\n",
    "\n",
    "\n",
    "fig_2.tight_layout()\n",
    "fig_2.savefig('Orbits_large_m1.png', dpi = 200, bbox_inches='tight')  # always bbox_inches='tight"
   ]
  },
  {
   "cell_type": "code",
   "execution_count": 92,
   "metadata": {},
   "outputs": [],
   "source": [
    "x1, x1_dot, y1, y1_dot, x2, x2_dot, y2, y2_dot = o1.solve_ode_Leapfrog(x1_0, x1_dot_0, y1_0, y1_dot_0, \n",
    "                              x2_0, x2_dot_0, y2_0, y2_dot_0, t_pts)"
   ]
  },
  {
   "cell_type": "code",
   "execution_count": 93,
   "metadata": {},
   "outputs": [
    {
     "data": {
      "text/plain": [
       "<matplotlib.legend.Legend at 0x1e13563ecc0>"
      ]
     },
     "execution_count": 93,
     "metadata": {},
     "output_type": "execute_result"
    },
    {
     "data": {
      "image/png": "[encoded data removed]",
      "text/plain": [
       "<Figure size 576x576 with 1 Axes>"
      ]
     },
     "metadata": {
      "needs_background": "light"
     },
     "output_type": "display_data"
    }
   ],
   "source": [
    "# Plot the points we found\n",
    "fig_2 = plt.figure(figsize=(8,8))\n",
    "\n",
    "overall_title = 'Orbit: ' + \\\n",
    "                rf' $m1 = {o1.m1},$' + \\\n",
    "                rf' $m2 = {o1.m2}$'\n",
    "fig_2.suptitle(overall_title, va='baseline')\n",
    "\n",
    "ax_2 = fig_2.add_subplot(1,1,1)\n",
    "ax_2.plot(x1, y1, color='red', label='m1')\n",
    "ax_2.plot(x2, y2, color='blue', label='m2')\n",
    "ax_2.set_xlabel(r'$x$')\n",
    "ax_2.set_ylabel(r'$y$')\n",
    "ax_2.set_aspect('equal')\n",
    "ax_2.set_title('Cartesian plot')\n",
    "ax_2.legend()"
   ]
  },
  {
   "cell_type": "code",
   "execution_count": null,
   "metadata": {},
   "outputs": [],
   "source": []
  }
 ],
 "metadata": {
  "kernelspec": {
   "display_name": "Python 3",
   "language": "python",
   "name": "python3"
  },
  "language_info": {
   "codemirror_mode": {
    "name": "ipython",
    "version": 3
   },
   "file_extension": ".py",
   "mimetype": "text/x-python",
   "name": "python",
   "nbconvert_exporter": "python",
   "pygments_lexer": "ipython3",
   "version": "3.7.3"
  }
 },
 "nbformat": 4,
 "nbformat_minor": 2
}
